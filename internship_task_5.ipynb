{
  "nbformat": 4,
  "nbformat_minor": 0,
  "metadata": {
    "colab": {
      "provenance": []
    },
    "kernelspec": {
      "name": "python3",
      "display_name": "Python 3"
    },
    "language_info": {
      "name": "python"
    }
  },
  "cells": [
    {
      "cell_type": "markdown",
      "source": [
        "#Name : Aryan Patole\n",
        "#Oasis Infobyte : Data Science \n",
        "#Internship Task 5 : Sales Prediction  "
      ],
      "metadata": {
        "id": "c6rwZGTE7mX5"
      }
    },
    {
      "cell_type": "markdown",
      "source": [
        "#IMPORTING LIBRARIES"
      ],
      "metadata": {
        "id": "4sw01O1m7t2J"
      }
    },
    {
      "cell_type": "code",
      "execution_count": 1,
      "metadata": {
        "id": "Qq5YQ3WVWuoY"
      },
      "outputs": [],
      "source": [
        "import pandas as pd\n",
        "import seaborn as sns\n",
        "import numpy as np\n",
        "import matplotlib.pyplot as plt"
      ]
    },
    {
      "cell_type": "markdown",
      "source": [
        "#LOADING THE DATASET"
      ],
      "metadata": {
        "id": "DEYhzqFo7vtW"
      }
    },
    {
      "cell_type": "code",
      "source": [
        "df=pd.read_csv(\"/content/Advertising.csv\")\n",
        "df.head()"
      ],
      "metadata": {
        "colab": {
          "base_uri": "https://localhost:8080/",
          "height": 206
        },
        "id": "la1tyOjFXSxC",
        "outputId": "84b29c64-6d89-44c4-81a9-65174af908ca"
      },
      "execution_count": 2,
      "outputs": [
        {
          "output_type": "execute_result",
          "data": {
            "text/plain": [
              "   Unnamed: 0     TV  Radio  Newspaper  Sales\n",
              "0           1  230.1   37.8       69.2   22.1\n",
              "1           2   44.5   39.3       45.1   10.4\n",
              "2           3   17.2   45.9       69.3    9.3\n",
              "3           4  151.5   41.3       58.5   18.5\n",
              "4           5  180.8   10.8       58.4   12.9"
            ],
            "text/html": [
              "\n",
              "  <div id=\"df-4790b5ea-e782-4c6f-81a0-a25db92c38a2\">\n",
              "    <div class=\"colab-df-container\">\n",
              "      <div>\n",
              "<style scoped>\n",
              "    .dataframe tbody tr th:only-of-type {\n",
              "        vertical-align: middle;\n",
              "    }\n",
              "\n",
              "    .dataframe tbody tr th {\n",
              "        vertical-align: top;\n",
              "    }\n",
              "\n",
              "    .dataframe thead th {\n",
              "        text-align: right;\n",
              "    }\n",
              "</style>\n",
              "<table border=\"1\" class=\"dataframe\">\n",
              "  <thead>\n",
              "    <tr style=\"text-align: right;\">\n",
              "      <th></th>\n",
              "      <th>Unnamed: 0</th>\n",
              "      <th>TV</th>\n",
              "      <th>Radio</th>\n",
              "      <th>Newspaper</th>\n",
              "      <th>Sales</th>\n",
              "    </tr>\n",
              "  </thead>\n",
              "  <tbody>\n",
              "    <tr>\n",
              "      <th>0</th>\n",
              "      <td>1</td>\n",
              "      <td>230.1</td>\n",
              "      <td>37.8</td>\n",
              "      <td>69.2</td>\n",
              "      <td>22.1</td>\n",
              "    </tr>\n",
              "    <tr>\n",
              "      <th>1</th>\n",
              "      <td>2</td>\n",
              "      <td>44.5</td>\n",
              "      <td>39.3</td>\n",
              "      <td>45.1</td>\n",
              "      <td>10.4</td>\n",
              "    </tr>\n",
              "    <tr>\n",
              "      <th>2</th>\n",
              "      <td>3</td>\n",
              "      <td>17.2</td>\n",
              "      <td>45.9</td>\n",
              "      <td>69.3</td>\n",
              "      <td>9.3</td>\n",
              "    </tr>\n",
              "    <tr>\n",
              "      <th>3</th>\n",
              "      <td>4</td>\n",
              "      <td>151.5</td>\n",
              "      <td>41.3</td>\n",
              "      <td>58.5</td>\n",
              "      <td>18.5</td>\n",
              "    </tr>\n",
              "    <tr>\n",
              "      <th>4</th>\n",
              "      <td>5</td>\n",
              "      <td>180.8</td>\n",
              "      <td>10.8</td>\n",
              "      <td>58.4</td>\n",
              "      <td>12.9</td>\n",
              "    </tr>\n",
              "  </tbody>\n",
              "</table>\n",
              "</div>\n",
              "      <button class=\"colab-df-convert\" onclick=\"convertToInteractive('df-4790b5ea-e782-4c6f-81a0-a25db92c38a2')\"\n",
              "              title=\"Convert this dataframe to an interactive table.\"\n",
              "              style=\"display:none;\">\n",
              "        \n",
              "  <svg xmlns=\"http://www.w3.org/2000/svg\" height=\"24px\"viewBox=\"0 0 24 24\"\n",
              "       width=\"24px\">\n",
              "    <path d=\"M0 0h24v24H0V0z\" fill=\"none\"/>\n",
              "    <path d=\"M18.56 5.44l.94 2.06.94-2.06 2.06-.94-2.06-.94-.94-2.06-.94 2.06-2.06.94zm-11 1L8.5 8.5l.94-2.06 2.06-.94-2.06-.94L8.5 2.5l-.94 2.06-2.06.94zm10 10l.94 2.06.94-2.06 2.06-.94-2.06-.94-.94-2.06-.94 2.06-2.06.94z\"/><path d=\"M17.41 7.96l-1.37-1.37c-.4-.4-.92-.59-1.43-.59-.52 0-1.04.2-1.43.59L10.3 9.45l-7.72 7.72c-.78.78-.78 2.05 0 2.83L4 21.41c.39.39.9.59 1.41.59.51 0 1.02-.2 1.41-.59l7.78-7.78 2.81-2.81c.8-.78.8-2.07 0-2.86zM5.41 20L4 18.59l7.72-7.72 1.47 1.35L5.41 20z\"/>\n",
              "  </svg>\n",
              "      </button>\n",
              "      \n",
              "  <style>\n",
              "    .colab-df-container {\n",
              "      display:flex;\n",
              "      flex-wrap:wrap;\n",
              "      gap: 12px;\n",
              "    }\n",
              "\n",
              "    .colab-df-convert {\n",
              "      background-color: #E8F0FE;\n",
              "      border: none;\n",
              "      border-radius: 50%;\n",
              "      cursor: pointer;\n",
              "      display: none;\n",
              "      fill: #1967D2;\n",
              "      height: 32px;\n",
              "      padding: 0 0 0 0;\n",
              "      width: 32px;\n",
              "    }\n",
              "\n",
              "    .colab-df-convert:hover {\n",
              "      background-color: #E2EBFA;\n",
              "      box-shadow: 0px 1px 2px rgba(60, 64, 67, 0.3), 0px 1px 3px 1px rgba(60, 64, 67, 0.15);\n",
              "      fill: #174EA6;\n",
              "    }\n",
              "\n",
              "    [theme=dark] .colab-df-convert {\n",
              "      background-color: #3B4455;\n",
              "      fill: #D2E3FC;\n",
              "    }\n",
              "\n",
              "    [theme=dark] .colab-df-convert:hover {\n",
              "      background-color: #434B5C;\n",
              "      box-shadow: 0px 1px 3px 1px rgba(0, 0, 0, 0.15);\n",
              "      filter: drop-shadow(0px 1px 2px rgba(0, 0, 0, 0.3));\n",
              "      fill: #FFFFFF;\n",
              "    }\n",
              "  </style>\n",
              "\n",
              "      <script>\n",
              "        const buttonEl =\n",
              "          document.querySelector('#df-4790b5ea-e782-4c6f-81a0-a25db92c38a2 button.colab-df-convert');\n",
              "        buttonEl.style.display =\n",
              "          google.colab.kernel.accessAllowed ? 'block' : 'none';\n",
              "\n",
              "        async function convertToInteractive(key) {\n",
              "          const element = document.querySelector('#df-4790b5ea-e782-4c6f-81a0-a25db92c38a2');\n",
              "          const dataTable =\n",
              "            await google.colab.kernel.invokeFunction('convertToInteractive',\n",
              "                                                     [key], {});\n",
              "          if (!dataTable) return;\n",
              "\n",
              "          const docLinkHtml = 'Like what you see? Visit the ' +\n",
              "            '<a target=\"_blank\" href=https://colab.research.google.com/notebooks/data_table.ipynb>data table notebook</a>'\n",
              "            + ' to learn more about interactive tables.';\n",
              "          element.innerHTML = '';\n",
              "          dataTable['output_type'] = 'display_data';\n",
              "          await google.colab.output.renderOutput(dataTable, element);\n",
              "          const docLink = document.createElement('div');\n",
              "          docLink.innerHTML = docLinkHtml;\n",
              "          element.appendChild(docLink);\n",
              "        }\n",
              "      </script>\n",
              "    </div>\n",
              "  </div>\n",
              "  "
            ]
          },
          "metadata": {},
          "execution_count": 2
        }
      ]
    },
    {
      "cell_type": "code",
      "source": [
        "df.tail()"
      ],
      "metadata": {
        "colab": {
          "base_uri": "https://localhost:8080/",
          "height": 206
        },
        "id": "2ItcGENVXcNa",
        "outputId": "623de9e8-9e60-4d4d-8d2a-47befa4d1c96"
      },
      "execution_count": 3,
      "outputs": [
        {
          "output_type": "execute_result",
          "data": {
            "text/plain": [
              "     Unnamed: 0     TV  Radio  Newspaper  Sales\n",
              "195         196   38.2    3.7       13.8    7.6\n",
              "196         197   94.2    4.9        8.1    9.7\n",
              "197         198  177.0    9.3        6.4   12.8\n",
              "198         199  283.6   42.0       66.2   25.5\n",
              "199         200  232.1    8.6        8.7   13.4"
            ],
            "text/html": [
              "\n",
              "  <div id=\"df-a1c8509c-e3ba-497e-a012-90f7d515876a\">\n",
              "    <div class=\"colab-df-container\">\n",
              "      <div>\n",
              "<style scoped>\n",
              "    .dataframe tbody tr th:only-of-type {\n",
              "        vertical-align: middle;\n",
              "    }\n",
              "\n",
              "    .dataframe tbody tr th {\n",
              "        vertical-align: top;\n",
              "    }\n",
              "\n",
              "    .dataframe thead th {\n",
              "        text-align: right;\n",
              "    }\n",
              "</style>\n",
              "<table border=\"1\" class=\"dataframe\">\n",
              "  <thead>\n",
              "    <tr style=\"text-align: right;\">\n",
              "      <th></th>\n",
              "      <th>Unnamed: 0</th>\n",
              "      <th>TV</th>\n",
              "      <th>Radio</th>\n",
              "      <th>Newspaper</th>\n",
              "      <th>Sales</th>\n",
              "    </tr>\n",
              "  </thead>\n",
              "  <tbody>\n",
              "    <tr>\n",
              "      <th>195</th>\n",
              "      <td>196</td>\n",
              "      <td>38.2</td>\n",
              "      <td>3.7</td>\n",
              "      <td>13.8</td>\n",
              "      <td>7.6</td>\n",
              "    </tr>\n",
              "    <tr>\n",
              "      <th>196</th>\n",
              "      <td>197</td>\n",
              "      <td>94.2</td>\n",
              "      <td>4.9</td>\n",
              "      <td>8.1</td>\n",
              "      <td>9.7</td>\n",
              "    </tr>\n",
              "    <tr>\n",
              "      <th>197</th>\n",
              "      <td>198</td>\n",
              "      <td>177.0</td>\n",
              "      <td>9.3</td>\n",
              "      <td>6.4</td>\n",
              "      <td>12.8</td>\n",
              "    </tr>\n",
              "    <tr>\n",
              "      <th>198</th>\n",
              "      <td>199</td>\n",
              "      <td>283.6</td>\n",
              "      <td>42.0</td>\n",
              "      <td>66.2</td>\n",
              "      <td>25.5</td>\n",
              "    </tr>\n",
              "    <tr>\n",
              "      <th>199</th>\n",
              "      <td>200</td>\n",
              "      <td>232.1</td>\n",
              "      <td>8.6</td>\n",
              "      <td>8.7</td>\n",
              "      <td>13.4</td>\n",
              "    </tr>\n",
              "  </tbody>\n",
              "</table>\n",
              "</div>\n",
              "      <button class=\"colab-df-convert\" onclick=\"convertToInteractive('df-a1c8509c-e3ba-497e-a012-90f7d515876a')\"\n",
              "              title=\"Convert this dataframe to an interactive table.\"\n",
              "              style=\"display:none;\">\n",
              "        \n",
              "  <svg xmlns=\"http://www.w3.org/2000/svg\" height=\"24px\"viewBox=\"0 0 24 24\"\n",
              "       width=\"24px\">\n",
              "    <path d=\"M0 0h24v24H0V0z\" fill=\"none\"/>\n",
              "    <path d=\"M18.56 5.44l.94 2.06.94-2.06 2.06-.94-2.06-.94-.94-2.06-.94 2.06-2.06.94zm-11 1L8.5 8.5l.94-2.06 2.06-.94-2.06-.94L8.5 2.5l-.94 2.06-2.06.94zm10 10l.94 2.06.94-2.06 2.06-.94-2.06-.94-.94-2.06-.94 2.06-2.06.94z\"/><path d=\"M17.41 7.96l-1.37-1.37c-.4-.4-.92-.59-1.43-.59-.52 0-1.04.2-1.43.59L10.3 9.45l-7.72 7.72c-.78.78-.78 2.05 0 2.83L4 21.41c.39.39.9.59 1.41.59.51 0 1.02-.2 1.41-.59l7.78-7.78 2.81-2.81c.8-.78.8-2.07 0-2.86zM5.41 20L4 18.59l7.72-7.72 1.47 1.35L5.41 20z\"/>\n",
              "  </svg>\n",
              "      </button>\n",
              "      \n",
              "  <style>\n",
              "    .colab-df-container {\n",
              "      display:flex;\n",
              "      flex-wrap:wrap;\n",
              "      gap: 12px;\n",
              "    }\n",
              "\n",
              "    .colab-df-convert {\n",
              "      background-color: #E8F0FE;\n",
              "      border: none;\n",
              "      border-radius: 50%;\n",
              "      cursor: pointer;\n",
              "      display: none;\n",
              "      fill: #1967D2;\n",
              "      height: 32px;\n",
              "      padding: 0 0 0 0;\n",
              "      width: 32px;\n",
              "    }\n",
              "\n",
              "    .colab-df-convert:hover {\n",
              "      background-color: #E2EBFA;\n",
              "      box-shadow: 0px 1px 2px rgba(60, 64, 67, 0.3), 0px 1px 3px 1px rgba(60, 64, 67, 0.15);\n",
              "      fill: #174EA6;\n",
              "    }\n",
              "\n",
              "    [theme=dark] .colab-df-convert {\n",
              "      background-color: #3B4455;\n",
              "      fill: #D2E3FC;\n",
              "    }\n",
              "\n",
              "    [theme=dark] .colab-df-convert:hover {\n",
              "      background-color: #434B5C;\n",
              "      box-shadow: 0px 1px 3px 1px rgba(0, 0, 0, 0.15);\n",
              "      filter: drop-shadow(0px 1px 2px rgba(0, 0, 0, 0.3));\n",
              "      fill: #FFFFFF;\n",
              "    }\n",
              "  </style>\n",
              "\n",
              "      <script>\n",
              "        const buttonEl =\n",
              "          document.querySelector('#df-a1c8509c-e3ba-497e-a012-90f7d515876a button.colab-df-convert');\n",
              "        buttonEl.style.display =\n",
              "          google.colab.kernel.accessAllowed ? 'block' : 'none';\n",
              "\n",
              "        async function convertToInteractive(key) {\n",
              "          const element = document.querySelector('#df-a1c8509c-e3ba-497e-a012-90f7d515876a');\n",
              "          const dataTable =\n",
              "            await google.colab.kernel.invokeFunction('convertToInteractive',\n",
              "                                                     [key], {});\n",
              "          if (!dataTable) return;\n",
              "\n",
              "          const docLinkHtml = 'Like what you see? Visit the ' +\n",
              "            '<a target=\"_blank\" href=https://colab.research.google.com/notebooks/data_table.ipynb>data table notebook</a>'\n",
              "            + ' to learn more about interactive tables.';\n",
              "          element.innerHTML = '';\n",
              "          dataTable['output_type'] = 'display_data';\n",
              "          await google.colab.output.renderOutput(dataTable, element);\n",
              "          const docLink = document.createElement('div');\n",
              "          docLink.innerHTML = docLinkHtml;\n",
              "          element.appendChild(docLink);\n",
              "        }\n",
              "      </script>\n",
              "    </div>\n",
              "  </div>\n",
              "  "
            ]
          },
          "metadata": {},
          "execution_count": 3
        }
      ]
    },
    {
      "cell_type": "markdown",
      "source": [
        "#ANALIZING THE DATASET"
      ],
      "metadata": {
        "id": "XklL_shr7y90"
      }
    },
    {
      "cell_type": "code",
      "source": [
        "df.describe()"
      ],
      "metadata": {
        "colab": {
          "base_uri": "https://localhost:8080/",
          "height": 300
        },
        "id": "Pc-QkMyhXfPO",
        "outputId": "fd77f97e-d8fc-4921-f91c-550bfa57efae"
      },
      "execution_count": 4,
      "outputs": [
        {
          "output_type": "execute_result",
          "data": {
            "text/plain": [
              "       Unnamed: 0          TV       Radio   Newspaper       Sales\n",
              "count  200.000000  200.000000  200.000000  200.000000  200.000000\n",
              "mean   100.500000  147.042500   23.264000   30.554000   14.022500\n",
              "std     57.879185   85.854236   14.846809   21.778621    5.217457\n",
              "min      1.000000    0.700000    0.000000    0.300000    1.600000\n",
              "25%     50.750000   74.375000    9.975000   12.750000   10.375000\n",
              "50%    100.500000  149.750000   22.900000   25.750000   12.900000\n",
              "75%    150.250000  218.825000   36.525000   45.100000   17.400000\n",
              "max    200.000000  296.400000   49.600000  114.000000   27.000000"
            ],
            "text/html": [
              "\n",
              "  <div id=\"df-01979a38-0d47-4731-9ffe-21f2ddd68503\">\n",
              "    <div class=\"colab-df-container\">\n",
              "      <div>\n",
              "<style scoped>\n",
              "    .dataframe tbody tr th:only-of-type {\n",
              "        vertical-align: middle;\n",
              "    }\n",
              "\n",
              "    .dataframe tbody tr th {\n",
              "        vertical-align: top;\n",
              "    }\n",
              "\n",
              "    .dataframe thead th {\n",
              "        text-align: right;\n",
              "    }\n",
              "</style>\n",
              "<table border=\"1\" class=\"dataframe\">\n",
              "  <thead>\n",
              "    <tr style=\"text-align: right;\">\n",
              "      <th></th>\n",
              "      <th>Unnamed: 0</th>\n",
              "      <th>TV</th>\n",
              "      <th>Radio</th>\n",
              "      <th>Newspaper</th>\n",
              "      <th>Sales</th>\n",
              "    </tr>\n",
              "  </thead>\n",
              "  <tbody>\n",
              "    <tr>\n",
              "      <th>count</th>\n",
              "      <td>200.000000</td>\n",
              "      <td>200.000000</td>\n",
              "      <td>200.000000</td>\n",
              "      <td>200.000000</td>\n",
              "      <td>200.000000</td>\n",
              "    </tr>\n",
              "    <tr>\n",
              "      <th>mean</th>\n",
              "      <td>100.500000</td>\n",
              "      <td>147.042500</td>\n",
              "      <td>23.264000</td>\n",
              "      <td>30.554000</td>\n",
              "      <td>14.022500</td>\n",
              "    </tr>\n",
              "    <tr>\n",
              "      <th>std</th>\n",
              "      <td>57.879185</td>\n",
              "      <td>85.854236</td>\n",
              "      <td>14.846809</td>\n",
              "      <td>21.778621</td>\n",
              "      <td>5.217457</td>\n",
              "    </tr>\n",
              "    <tr>\n",
              "      <th>min</th>\n",
              "      <td>1.000000</td>\n",
              "      <td>0.700000</td>\n",
              "      <td>0.000000</td>\n",
              "      <td>0.300000</td>\n",
              "      <td>1.600000</td>\n",
              "    </tr>\n",
              "    <tr>\n",
              "      <th>25%</th>\n",
              "      <td>50.750000</td>\n",
              "      <td>74.375000</td>\n",
              "      <td>9.975000</td>\n",
              "      <td>12.750000</td>\n",
              "      <td>10.375000</td>\n",
              "    </tr>\n",
              "    <tr>\n",
              "      <th>50%</th>\n",
              "      <td>100.500000</td>\n",
              "      <td>149.750000</td>\n",
              "      <td>22.900000</td>\n",
              "      <td>25.750000</td>\n",
              "      <td>12.900000</td>\n",
              "    </tr>\n",
              "    <tr>\n",
              "      <th>75%</th>\n",
              "      <td>150.250000</td>\n",
              "      <td>218.825000</td>\n",
              "      <td>36.525000</td>\n",
              "      <td>45.100000</td>\n",
              "      <td>17.400000</td>\n",
              "    </tr>\n",
              "    <tr>\n",
              "      <th>max</th>\n",
              "      <td>200.000000</td>\n",
              "      <td>296.400000</td>\n",
              "      <td>49.600000</td>\n",
              "      <td>114.000000</td>\n",
              "      <td>27.000000</td>\n",
              "    </tr>\n",
              "  </tbody>\n",
              "</table>\n",
              "</div>\n",
              "      <button class=\"colab-df-convert\" onclick=\"convertToInteractive('df-01979a38-0d47-4731-9ffe-21f2ddd68503')\"\n",
              "              title=\"Convert this dataframe to an interactive table.\"\n",
              "              style=\"display:none;\">\n",
              "        \n",
              "  <svg xmlns=\"http://www.w3.org/2000/svg\" height=\"24px\"viewBox=\"0 0 24 24\"\n",
              "       width=\"24px\">\n",
              "    <path d=\"M0 0h24v24H0V0z\" fill=\"none\"/>\n",
              "    <path d=\"M18.56 5.44l.94 2.06.94-2.06 2.06-.94-2.06-.94-.94-2.06-.94 2.06-2.06.94zm-11 1L8.5 8.5l.94-2.06 2.06-.94-2.06-.94L8.5 2.5l-.94 2.06-2.06.94zm10 10l.94 2.06.94-2.06 2.06-.94-2.06-.94-.94-2.06-.94 2.06-2.06.94z\"/><path d=\"M17.41 7.96l-1.37-1.37c-.4-.4-.92-.59-1.43-.59-.52 0-1.04.2-1.43.59L10.3 9.45l-7.72 7.72c-.78.78-.78 2.05 0 2.83L4 21.41c.39.39.9.59 1.41.59.51 0 1.02-.2 1.41-.59l7.78-7.78 2.81-2.81c.8-.78.8-2.07 0-2.86zM5.41 20L4 18.59l7.72-7.72 1.47 1.35L5.41 20z\"/>\n",
              "  </svg>\n",
              "      </button>\n",
              "      \n",
              "  <style>\n",
              "    .colab-df-container {\n",
              "      display:flex;\n",
              "      flex-wrap:wrap;\n",
              "      gap: 12px;\n",
              "    }\n",
              "\n",
              "    .colab-df-convert {\n",
              "      background-color: #E8F0FE;\n",
              "      border: none;\n",
              "      border-radius: 50%;\n",
              "      cursor: pointer;\n",
              "      display: none;\n",
              "      fill: #1967D2;\n",
              "      height: 32px;\n",
              "      padding: 0 0 0 0;\n",
              "      width: 32px;\n",
              "    }\n",
              "\n",
              "    .colab-df-convert:hover {\n",
              "      background-color: #E2EBFA;\n",
              "      box-shadow: 0px 1px 2px rgba(60, 64, 67, 0.3), 0px 1px 3px 1px rgba(60, 64, 67, 0.15);\n",
              "      fill: #174EA6;\n",
              "    }\n",
              "\n",
              "    [theme=dark] .colab-df-convert {\n",
              "      background-color: #3B4455;\n",
              "      fill: #D2E3FC;\n",
              "    }\n",
              "\n",
              "    [theme=dark] .colab-df-convert:hover {\n",
              "      background-color: #434B5C;\n",
              "      box-shadow: 0px 1px 3px 1px rgba(0, 0, 0, 0.15);\n",
              "      filter: drop-shadow(0px 1px 2px rgba(0, 0, 0, 0.3));\n",
              "      fill: #FFFFFF;\n",
              "    }\n",
              "  </style>\n",
              "\n",
              "      <script>\n",
              "        const buttonEl =\n",
              "          document.querySelector('#df-01979a38-0d47-4731-9ffe-21f2ddd68503 button.colab-df-convert');\n",
              "        buttonEl.style.display =\n",
              "          google.colab.kernel.accessAllowed ? 'block' : 'none';\n",
              "\n",
              "        async function convertToInteractive(key) {\n",
              "          const element = document.querySelector('#df-01979a38-0d47-4731-9ffe-21f2ddd68503');\n",
              "          const dataTable =\n",
              "            await google.colab.kernel.invokeFunction('convertToInteractive',\n",
              "                                                     [key], {});\n",
              "          if (!dataTable) return;\n",
              "\n",
              "          const docLinkHtml = 'Like what you see? Visit the ' +\n",
              "            '<a target=\"_blank\" href=https://colab.research.google.com/notebooks/data_table.ipynb>data table notebook</a>'\n",
              "            + ' to learn more about interactive tables.';\n",
              "          element.innerHTML = '';\n",
              "          dataTable['output_type'] = 'display_data';\n",
              "          await google.colab.output.renderOutput(dataTable, element);\n",
              "          const docLink = document.createElement('div');\n",
              "          docLink.innerHTML = docLinkHtml;\n",
              "          element.appendChild(docLink);\n",
              "        }\n",
              "      </script>\n",
              "    </div>\n",
              "  </div>\n",
              "  "
            ]
          },
          "metadata": {},
          "execution_count": 4
        }
      ]
    },
    {
      "cell_type": "code",
      "source": [
        "df.shape "
      ],
      "metadata": {
        "colab": {
          "base_uri": "https://localhost:8080/"
        },
        "id": "gfI6NrmLXiXF",
        "outputId": "99bdcbe3-6864-46f7-cb7f-795f17566a72"
      },
      "execution_count": 5,
      "outputs": [
        {
          "output_type": "execute_result",
          "data": {
            "text/plain": [
              "(200, 5)"
            ]
          },
          "metadata": {},
          "execution_count": 5
        }
      ]
    },
    {
      "cell_type": "code",
      "source": [
        "df.info()"
      ],
      "metadata": {
        "colab": {
          "base_uri": "https://localhost:8080/"
        },
        "id": "wWuG_s3LXla5",
        "outputId": "5d38a405-50f1-43ca-918f-b58073dcddcc"
      },
      "execution_count": 6,
      "outputs": [
        {
          "output_type": "stream",
          "name": "stdout",
          "text": [
            "<class 'pandas.core.frame.DataFrame'>\n",
            "RangeIndex: 200 entries, 0 to 199\n",
            "Data columns (total 5 columns):\n",
            " #   Column      Non-Null Count  Dtype  \n",
            "---  ------      --------------  -----  \n",
            " 0   Unnamed: 0  200 non-null    int64  \n",
            " 1   TV          200 non-null    float64\n",
            " 2   Radio       200 non-null    float64\n",
            " 3   Newspaper   200 non-null    float64\n",
            " 4   Sales       200 non-null    float64\n",
            "dtypes: float64(4), int64(1)\n",
            "memory usage: 7.9 KB\n"
          ]
        }
      ]
    },
    {
      "cell_type": "code",
      "source": [
        "df.columns"
      ],
      "metadata": {
        "colab": {
          "base_uri": "https://localhost:8080/"
        },
        "id": "x7nKZ8c8Xs59",
        "outputId": "28aebe44-43aa-429e-9af4-012b63b31dd7"
      },
      "execution_count": 7,
      "outputs": [
        {
          "output_type": "execute_result",
          "data": {
            "text/plain": [
              "Index(['Unnamed: 0', 'TV', 'Radio', 'Newspaper', 'Sales'], dtype='object')"
            ]
          },
          "metadata": {},
          "execution_count": 7
        }
      ]
    },
    {
      "cell_type": "markdown",
      "source": [
        "#VISUALIZING THE DATASET"
      ],
      "metadata": {
        "id": "jiQLRO7F8Cm_"
      }
    },
    {
      "cell_type": "code",
      "source": [
        "sns.pairplot(df,x_vars=['TV','Newspaper','Radio'],y_vars='Sales',height=4,kind='scatter')\n",
        "plt.show()"
      ],
      "metadata": {
        "colab": {
          "base_uri": "https://localhost:8080/",
          "height": 415
        },
        "id": "dafIBTwJ2YGQ",
        "outputId": "302aafdd-4918-45f1-d463-5974a52cc581"
      },
      "execution_count": 30,
      "outputs": [
        {
          "output_type": "display_data",
          "data": {
            "text/plain": [
              "<Figure size 1200x400 with 3 Axes>"
            ],
            "image/png": "[encoded data removed]"
          },
          "metadata": {}
        }
      ]
    },
    {
      "cell_type": "markdown",
      "source": [
        "#BUILDING MODEL FOR TV"
      ],
      "metadata": {
        "id": "iSis1PYf8Sx2"
      }
    },
    {
      "cell_type": "code",
      "source": [
        "x=df['TV']\n",
        "y=df['Sales']"
      ],
      "metadata": {
        "id": "wf96IuRQ4IFc"
      },
      "execution_count": 31,
      "outputs": []
    },
    {
      "cell_type": "code",
      "source": [
        "from sklearn.model_selection import train_test_split\n",
        "x_train,x_test,y_train,y_test=train_test_split(x,y,train_size=0.7,test_size=0.3,random_state=100)"
      ],
      "metadata": {
        "id": "LeDS7V-14I4z"
      },
      "execution_count": 32,
      "outputs": []
    },
    {
      "cell_type": "code",
      "source": [
        "x_train"
      ],
      "metadata": {
        "colab": {
          "base_uri": "https://localhost:8080/"
        },
        "id": "qVdL-PvM4Lx7",
        "outputId": "73650746-e54f-4df3-c998-3555fd95625c"
      },
      "execution_count": 33,
      "outputs": [
        {
          "output_type": "execute_result",
          "data": {
            "text/plain": [
              "74     213.4\n",
              "3      151.5\n",
              "185    205.0\n",
              "26     142.9\n",
              "90     134.3\n",
              "       ...  \n",
              "87     110.7\n",
              "103    187.9\n",
              "67     139.3\n",
              "24      62.3\n",
              "8        8.6\n",
              "Name: TV, Length: 140, dtype: float64"
            ]
          },
          "metadata": {},
          "execution_count": 33
        }
      ]
    },
    {
      "cell_type": "code",
      "source": [
        "y_train"
      ],
      "metadata": {
        "colab": {
          "base_uri": "https://localhost:8080/"
        },
        "id": "LQwqwW2k4OSh",
        "outputId": "b9369558-09d4-41f8-e4cf-8d0d418df1f3"
      },
      "execution_count": 34,
      "outputs": [
        {
          "output_type": "execute_result",
          "data": {
            "text/plain": [
              "74     17.0\n",
              "3      18.5\n",
              "185    22.6\n",
              "26     15.0\n",
              "90     11.2\n",
              "       ... \n",
              "87     16.0\n",
              "103    14.7\n",
              "67     13.4\n",
              "24      9.7\n",
              "8       4.8\n",
              "Name: Sales, Length: 140, dtype: float64"
            ]
          },
          "metadata": {},
          "execution_count": 34
        }
      ]
    },
    {
      "cell_type": "code",
      "source": [
        "x_test"
      ],
      "metadata": {
        "colab": {
          "base_uri": "https://localhost:8080/"
        },
        "id": "GgS0aPvn4ZhN",
        "outputId": "3d58f01a-53d5-4444-8852-58e40744032e"
      },
      "execution_count": 35,
      "outputs": [
        {
          "output_type": "execute_result",
          "data": {
            "text/plain": [
              "126      7.8\n",
              "104    238.2\n",
              "99     135.2\n",
              "92     217.7\n",
              "111    241.7\n",
              "167    206.8\n",
              "116    139.2\n",
              "96     197.6\n",
              "52     216.4\n",
              "69     216.8\n",
              "164    117.2\n",
              "124    229.5\n",
              "182     56.2\n",
              "154    187.8\n",
              "125     87.2\n",
              "196     94.2\n",
              "194    149.7\n",
              "177    170.2\n",
              "163    163.5\n",
              "31     112.9\n",
              "11     214.7\n",
              "73     129.4\n",
              "15     195.4\n",
              "41     177.0\n",
              "97     184.9\n",
              "128    220.3\n",
              "133    219.8\n",
              "82      75.3\n",
              "139    184.9\n",
              "123    123.1\n",
              "83      68.4\n",
              "65      69.0\n",
              "151    121.0\n",
              "162    188.4\n",
              "170     50.0\n",
              "77     120.5\n",
              "32      97.2\n",
              "173    168.4\n",
              "174    222.4\n",
              "85     193.2\n",
              "168    215.4\n",
              "112    175.7\n",
              "171    164.5\n",
              "181    218.5\n",
              "7      120.2\n",
              "46      89.7\n",
              "75      16.9\n",
              "28     248.8\n",
              "29      70.6\n",
              "195     38.2\n",
              "40     202.5\n",
              "153    171.3\n",
              "115     75.1\n",
              "64     131.1\n",
              "59     210.7\n",
              "1       44.5\n",
              "192     17.2\n",
              "136     25.6\n",
              "152    197.6\n",
              "161     85.7\n",
              "Name: TV, dtype: float64"
            ]
          },
          "metadata": {},
          "execution_count": 35
        }
      ]
    },
    {
      "cell_type": "code",
      "source": [
        "y_test"
      ],
      "metadata": {
        "colab": {
          "base_uri": "https://localhost:8080/"
        },
        "id": "r5AHMm2p4c6Q",
        "outputId": "dbc08417-5036-4f51-a25c-b19872ef9f63"
      },
      "execution_count": 36,
      "outputs": [
        {
          "output_type": "execute_result",
          "data": {
            "text/plain": [
              "126     6.6\n",
              "104    20.7\n",
              "99     17.2\n",
              "92     19.4\n",
              "111    21.8\n",
              "167    12.2\n",
              "116    12.2\n",
              "96     11.7\n",
              "52     22.6\n",
              "69     22.3\n",
              "164    11.9\n",
              "124    19.7\n",
              "182     8.7\n",
              "154    15.6\n",
              "125    10.6\n",
              "196     9.7\n",
              "194    17.3\n",
              "177    11.7\n",
              "163    18.0\n",
              "31     11.9\n",
              "11     17.4\n",
              "73     11.0\n",
              "15     22.4\n",
              "41     17.1\n",
              "97     15.5\n",
              "128    24.7\n",
              "133    19.6\n",
              "82     11.3\n",
              "139    20.7\n",
              "123    15.2\n",
              "83     13.6\n",
              "65      9.3\n",
              "151    11.6\n",
              "162    14.9\n",
              "170     8.4\n",
              "77     14.2\n",
              "32      9.6\n",
              "173    11.7\n",
              "174    11.5\n",
              "85     15.2\n",
              "168    17.1\n",
              "112    14.1\n",
              "171    14.5\n",
              "181    12.2\n",
              "7      13.2\n",
              "46     10.6\n",
              "75      8.7\n",
              "28     18.9\n",
              "29     10.5\n",
              "195     7.6\n",
              "40     16.6\n",
              "153    19.0\n",
              "115    12.6\n",
              "64     18.0\n",
              "59     18.4\n",
              "1      10.4\n",
              "192     5.9\n",
              "136     9.5\n",
              "152    16.6\n",
              "161    13.3\n",
              "Name: Sales, dtype: float64"
            ]
          },
          "metadata": {},
          "execution_count": 36
        }
      ]
    },
    {
      "cell_type": "markdown",
      "source": [
        "#IMPORTING LIBRARIES"
      ],
      "metadata": {
        "id": "ZzaVjW-H8kTl"
      }
    },
    {
      "cell_type": "code",
      "source": [
        "import statsmodels.api as sm"
      ],
      "metadata": {
        "id": "jMrp776i4gqf"
      },
      "execution_count": 37,
      "outputs": []
    },
    {
      "cell_type": "code",
      "source": [
        "x_train_sm=sm.add_constant(x_train)"
      ],
      "metadata": {
        "id": "q3awUhRa4jOr"
      },
      "execution_count": 38,
      "outputs": []
    },
    {
      "cell_type": "code",
      "source": [
        "lnr=sm.OLS(y_train,x_train_sm).fit()"
      ],
      "metadata": {
        "id": "EqcuWl6h4j8G"
      },
      "execution_count": 39,
      "outputs": []
    },
    {
      "cell_type": "code",
      "source": [
        "lnr.params"
      ],
      "metadata": {
        "colab": {
          "base_uri": "https://localhost:8080/"
        },
        "id": "OtwIq8Mk4mAs",
        "outputId": "ef7a20ea-377c-471e-8a16-abe9b6b2c26b"
      },
      "execution_count": 40,
      "outputs": [
        {
          "output_type": "execute_result",
          "data": {
            "text/plain": [
              "const    6.989666\n",
              "TV       0.046497\n",
              "dtype: float64"
            ]
          },
          "metadata": {},
          "execution_count": 40
        }
      ]
    },
    {
      "cell_type": "code",
      "source": [
        "print(lnr.summary())"
      ],
      "metadata": {
        "colab": {
          "base_uri": "https://localhost:8080/"
        },
        "id": "0b3BfNF74m24",
        "outputId": "69064bd2-d043-4d23-94a4-624af98813ff"
      },
      "execution_count": 41,
      "outputs": [
        {
          "output_type": "stream",
          "name": "stdout",
          "text": [
            "                            OLS Regression Results                            \n",
            "==============================================================================\n",
            "Dep. Variable:                  Sales   R-squared:                       0.613\n",
            "Model:                            OLS   Adj. R-squared:                  0.611\n",
            "Method:                 Least Squares   F-statistic:                     219.0\n",
            "Date:                Thu, 27 Apr 2023   Prob (F-statistic):           2.84e-30\n",
            "Time:                        18:03:49   Log-Likelihood:                -370.62\n",
            "No. Observations:                 140   AIC:                             745.2\n",
            "Df Residuals:                     138   BIC:                             751.1\n",
            "Df Model:                           1                                         \n",
            "Covariance Type:            nonrobust                                         \n",
            "==============================================================================\n",
            "                 coef    std err          t      P>|t|      [0.025      0.975]\n",
            "------------------------------------------------------------------------------\n",
            "const          6.9897      0.548     12.762      0.000       5.907       8.073\n",
            "TV             0.0465      0.003     14.798      0.000       0.040       0.053\n",
            "==============================================================================\n",
            "Omnibus:                        0.995   Durbin-Watson:                   1.983\n",
            "Prob(Omnibus):                  0.608   Jarque-Bera (JB):                0.970\n",
            "Skew:                          -0.008   Prob(JB):                        0.616\n",
            "Kurtosis:                       2.593   Cond. No.                         328.\n",
            "==============================================================================\n",
            "\n",
            "Notes:\n",
            "[1] Standard Errors assume that the covariance matrix of the errors is correctly specified.\n"
          ]
        }
      ]
    },
    {
      "cell_type": "markdown",
      "source": [
        "#VISUALIZING THE MODEL"
      ],
      "metadata": {
        "id": "OPOG0kMm8_Ua"
      }
    },
    {
      "cell_type": "code",
      "source": [
        "plt.scatter(x_train,y_train)\n",
        "plt.plot(x_train,6.989666 + 0.046497*x_train,'r')\n",
        "plt.show()"
      ],
      "metadata": {
        "colab": {
          "base_uri": "https://localhost:8080/",
          "height": 430
        },
        "id": "aNjsZhEm4sb-",
        "outputId": "ab12e755-8ec6-4641-9aed-c2931fa8055a"
      },
      "execution_count": 42,
      "outputs": [
        {
          "output_type": "display_data",
          "data": {
            "text/plain": [
              "<Figure size 640x480 with 1 Axes>"
            ],
            "image/png": "[encoded data removed]"
          },
          "metadata": {}
        }
      ]
    },
    {
      "cell_type": "code",
      "source": [
        "y_train_pred=lnr.predict(x_train_sm)\n",
        "resid=(y_train-y_train_pred)"
      ],
      "metadata": {
        "id": "L7QfiQJx4wJo"
      },
      "execution_count": 43,
      "outputs": []
    },
    {
      "cell_type": "code",
      "source": [
        "fig=plt.figure()\n",
        "sns.displot(resid,bins=15)\n",
        "fig.suptitle('Error Terms',fontsize=15)\n",
        "plt.xlabel('y_train-y_train_pred',fontsize=15)\n",
        "plt.show()"
      ],
      "metadata": {
        "colab": {
          "base_uri": "https://localhost:8080/",
          "height": 551
        },
        "id": "fs0FQmSC41jN",
        "outputId": "76df3940-3084-4175-cb81-cc1bfba8c280"
      },
      "execution_count": 44,
      "outputs": [
        {
          "output_type": "display_data",
          "data": {
            "text/plain": [
              "<Figure size 640x480 with 0 Axes>"
            ]
          },
          "metadata": {}
        },
        {
          "output_type": "display_data",
          "data": {
            "text/plain": [
              "<Figure size 500x500 with 1 Axes>"
            ],
            "image/png": "[encoded data removed]"
          },
          "metadata": {}
        }
      ]
    },
    {
      "cell_type": "code",
      "source": [
        "x_test_sm=sm.add_constant(x_test)\n",
        "y_pred=lnr.predict(x_test_sm)"
      ],
      "metadata": {
        "id": "_UH37b7r49Dx"
      },
      "execution_count": 45,
      "outputs": []
    },
    {
      "cell_type": "code",
      "source": [
        "y_pred"
      ],
      "metadata": {
        "colab": {
          "base_uri": "https://localhost:8080/"
        },
        "id": "7GIaikyF4_rd",
        "outputId": "d2b70244-9c45-4ece-9751-2b628aab2580"
      },
      "execution_count": 46,
      "outputs": [
        {
          "output_type": "execute_result",
          "data": {
            "text/plain": [
              "126     7.352345\n",
              "104    18.065337\n",
              "99     13.276109\n",
              "92     17.112141\n",
              "111    18.228077\n",
              "167    16.605320\n",
              "116    13.462098\n",
              "96     16.177544\n",
              "52     17.051694\n",
              "69     17.070293\n",
              "164    12.439156\n",
              "124    17.660810\n",
              "182     9.602817\n",
              "154    15.721870\n",
              "125    11.044236\n",
              "196    11.369717\n",
              "194    13.950320\n",
              "177    14.903516\n",
              "163    14.591984\n",
              "31     12.239218\n",
              "11     16.972649\n",
              "73     13.006424\n",
              "15     16.075250\n",
              "41     15.219698\n",
              "97     15.587027\n",
              "128    17.233034\n",
              "133    17.209785\n",
              "82     10.490917\n",
              "139    15.587027\n",
              "123    12.713491\n",
              "83     10.170085\n",
              "65     10.197984\n",
              "151    12.615846\n",
              "162    15.749768\n",
              "170     9.314534\n",
              "77     12.592598\n",
              "32     11.509209\n",
              "173    14.819821\n",
              "174    17.330678\n",
              "85     15.972956\n",
              "168    17.005197\n",
              "112    15.159252\n",
              "171    14.638481\n",
              "181    17.149339\n",
              "7      12.578648\n",
              "46     11.160479\n",
              "75      7.775471\n",
              "28     18.558209\n",
              "29     10.272379\n",
              "195     8.765865\n",
              "40     16.405381\n",
              "153    14.954663\n",
              "115    10.481617\n",
              "64     13.085470\n",
              "59     16.786659\n",
              "1       9.058798\n",
              "192     7.789420\n",
              "136     8.179998\n",
              "152    16.177544\n",
              "161    10.974490\n",
              "dtype: float64"
            ]
          },
          "metadata": {},
          "execution_count": 46
        }
      ]
    },
    {
      "cell_type": "code",
      "source": [
        "y_pred.head()"
      ],
      "metadata": {
        "colab": {
          "base_uri": "https://localhost:8080/"
        },
        "id": "UVevUSPQ5CN2",
        "outputId": "7b780ba1-45ec-479d-b230-4843d00f656b"
      },
      "execution_count": 47,
      "outputs": [
        {
          "output_type": "execute_result",
          "data": {
            "text/plain": [
              "126     7.352345\n",
              "104    18.065337\n",
              "99     13.276109\n",
              "92     17.112141\n",
              "111    18.228077\n",
              "dtype: float64"
            ]
          },
          "metadata": {},
          "execution_count": 47
        }
      ]
    },
    {
      "cell_type": "markdown",
      "source": [
        "#IMPORTING LIBRARIES"
      ],
      "metadata": {
        "id": "WwxhRzeZ_Ms_"
      }
    },
    {
      "cell_type": "code",
      "source": [
        "from sklearn.metrics import mean_squared_error\n",
        "from sklearn.metrics import r2_score"
      ],
      "metadata": {
        "id": "08uDRKFC5FbE"
      },
      "execution_count": 48,
      "outputs": []
    },
    {
      "cell_type": "code",
      "source": [
        "np.sqrt(mean_squared_error(y_test,y_pred))"
      ],
      "metadata": {
        "colab": {
          "base_uri": "https://localhost:8080/"
        },
        "id": "_k-0PGVr5Hhu",
        "outputId": "97c89700-a52b-4712-a28b-b55041395f2d"
      },
      "execution_count": 49,
      "outputs": [
        {
          "output_type": "execute_result",
          "data": {
            "text/plain": [
              "2.8241456288327003"
            ]
          },
          "metadata": {},
          "execution_count": 49
        }
      ]
    },
    {
      "cell_type": "code",
      "source": [
        "r_squared=r2_score(y_test,y_pred)"
      ],
      "metadata": {
        "id": "RAlzCEl35RmI"
      },
      "execution_count": 50,
      "outputs": []
    },
    {
      "cell_type": "code",
      "source": [
        "r_squared"
      ],
      "metadata": {
        "colab": {
          "base_uri": "https://localhost:8080/"
        },
        "id": "MVZHMUfB5T5A",
        "outputId": "a1e24634-07c6-4a88-a480-0d7b777b49c1"
      },
      "execution_count": 51,
      "outputs": [
        {
          "output_type": "execute_result",
          "data": {
            "text/plain": [
              "0.5942987267783303"
            ]
          },
          "metadata": {},
          "execution_count": 51
        }
      ]
    },
    {
      "cell_type": "code",
      "source": [
        "plt.scatter(x_test,y_test)\n",
        "plt.plot(x_test,6.989666+0.046497*x_test,'r')\n",
        "plt.show()"
      ],
      "metadata": {
        "colab": {
          "base_uri": "https://localhost:8080/",
          "height": 430
        },
        "id": "y_O1IgSR5c3E",
        "outputId": "412b6a2f-d89b-42f6-92be-9a5ccfcc5ade"
      },
      "execution_count": 53,
      "outputs": [
        {
          "output_type": "display_data",
          "data": {
            "text/plain": [
              "<Figure size 640x480 with 1 Axes>"
            ],
            "image/png": "[encoded data removed]"
          },
          "metadata": {}
        }
      ]
    },
    {
      "cell_type": "markdown",
      "source": [
        "#BUILDING MODEL FOR NEWSPAPER"
      ],
      "metadata": {
        "id": "7-cY5uPQ9b6d"
      }
    },
    {
      "cell_type": "code",
      "source": [
        "x=df['Newspaper']\n",
        "y=df['Sales']"
      ],
      "metadata": {
        "id": "cQZBazYk5dhY"
      },
      "execution_count": 52,
      "outputs": []
    },
    {
      "cell_type": "code",
      "source": [
        "from sklearn.model_selection import train_test_split\n",
        "x_train,x_test,y_train,y_test=train_test_split(x,y,train_size=0.7,test_size=0.3,random_state=100)"
      ],
      "metadata": {
        "id": "fTQhC-D05h49"
      },
      "execution_count": 54,
      "outputs": []
    },
    {
      "cell_type": "code",
      "source": [
        "x_train"
      ],
      "metadata": {
        "colab": {
          "base_uri": "https://localhost:8080/"
        },
        "id": "dbsZMsjc5lIZ",
        "outputId": "233e72f0-bec5-48e5-b39e-bcb0e994eec2"
      },
      "execution_count": 55,
      "outputs": [
        {
          "output_type": "execute_result",
          "data": {
            "text/plain": [
              "74     13.1\n",
              "3      58.5\n",
              "185    19.6\n",
              "26     12.6\n",
              "90      9.3\n",
              "       ... \n",
              "87     63.2\n",
              "103    17.9\n",
              "67     10.2\n",
              "24     18.3\n",
              "8       1.0\n",
              "Name: Newspaper, Length: 140, dtype: float64"
            ]
          },
          "metadata": {},
          "execution_count": 55
        }
      ]
    },
    {
      "cell_type": "code",
      "source": [
        "y_train"
      ],
      "metadata": {
        "colab": {
          "base_uri": "https://localhost:8080/"
        },
        "id": "TdqfT7Gq5nmT",
        "outputId": "9b5aa40e-5904-4859-bd7f-4c797444bf84"
      },
      "execution_count": 56,
      "outputs": [
        {
          "output_type": "execute_result",
          "data": {
            "text/plain": [
              "74     17.0\n",
              "3      18.5\n",
              "185    22.6\n",
              "26     15.0\n",
              "90     11.2\n",
              "       ... \n",
              "87     16.0\n",
              "103    14.7\n",
              "67     13.4\n",
              "24      9.7\n",
              "8       4.8\n",
              "Name: Sales, Length: 140, dtype: float64"
            ]
          },
          "metadata": {},
          "execution_count": 56
        }
      ]
    },
    {
      "cell_type": "code",
      "source": [
        "x_train_sm=sm.add_constant(x_train)"
      ],
      "metadata": {
        "id": "QjksIXuz5qFu"
      },
      "execution_count": 57,
      "outputs": []
    },
    {
      "cell_type": "code",
      "source": [
        "lnr=sm.OLS(y_train,x_train_sm).fit()"
      ],
      "metadata": {
        "id": "gIM5VEJ25tgH"
      },
      "execution_count": 58,
      "outputs": []
    },
    {
      "cell_type": "code",
      "source": [
        "lnr.params"
      ],
      "metadata": {
        "colab": {
          "base_uri": "https://localhost:8080/"
        },
        "id": "iqHVfrIN5vle",
        "outputId": "690ec224-13de-4382-b9ee-789324d65f5a"
      },
      "execution_count": 59,
      "outputs": [
        {
          "output_type": "execute_result",
          "data": {
            "text/plain": [
              "const        11.484399\n",
              "Newspaper     0.075492\n",
              "dtype: float64"
            ]
          },
          "metadata": {},
          "execution_count": 59
        }
      ]
    },
    {
      "cell_type": "code",
      "source": [
        "print(lnr.summary())"
      ],
      "metadata": {
        "colab": {
          "base_uri": "https://localhost:8080/"
        },
        "id": "hQRuDnx55yLz",
        "outputId": "5da63116-9e85-4767-83f7-2a61c4b540b9"
      },
      "execution_count": 60,
      "outputs": [
        {
          "output_type": "stream",
          "name": "stdout",
          "text": [
            "                            OLS Regression Results                            \n",
            "==============================================================================\n",
            "Dep. Variable:                  Sales   R-squared:                       0.096\n",
            "Model:                            OLS   Adj. R-squared:                  0.089\n",
            "Method:                 Least Squares   F-statistic:                     14.65\n",
            "Date:                Thu, 27 Apr 2023   Prob (F-statistic):           0.000195\n",
            "Time:                        18:08:50   Log-Likelihood:                -430.09\n",
            "No. Observations:                 140   AIC:                             864.2\n",
            "Df Residuals:                     138   BIC:                             870.1\n",
            "Df Model:                           1                                         \n",
            "Covariance Type:            nonrobust                                         \n",
            "==============================================================================\n",
            "                 coef    std err          t      P>|t|      [0.025      0.975]\n",
            "------------------------------------------------------------------------------\n",
            "const         11.4844      0.763     15.052      0.000       9.976      12.993\n",
            "Newspaper      0.0755      0.020      3.828      0.000       0.036       0.114\n",
            "==============================================================================\n",
            "Omnibus:                        4.198   Durbin-Watson:                   1.910\n",
            "Prob(Omnibus):                  0.123   Jarque-Bera (JB):                3.875\n",
            "Skew:                           0.338   Prob(JB):                        0.144\n",
            "Kurtosis:                       2.546   Cond. No.                         66.4\n",
            "==============================================================================\n",
            "\n",
            "Notes:\n",
            "[1] Standard Errors assume that the covariance matrix of the errors is correctly specified.\n"
          ]
        }
      ]
    },
    {
      "cell_type": "markdown",
      "source": [
        "#VISUALIZING THE MODEL"
      ],
      "metadata": {
        "id": "XT1Gw6yR9ukz"
      }
    },
    {
      "cell_type": "code",
      "source": [
        "plt.scatter(x_train,y_train)\n",
        "plt.plot(x_train, 11.484399 + 0.075492*x_train,'r')\n",
        "plt.show()"
      ],
      "metadata": {
        "colab": {
          "base_uri": "https://localhost:8080/",
          "height": 430
        },
        "id": "OH3m0RkZ53v8",
        "outputId": "956645eb-8026-4d6e-9e64-a0064cbb9b61"
      },
      "execution_count": 61,
      "outputs": [
        {
          "output_type": "display_data",
          "data": {
            "text/plain": [
              "<Figure size 640x480 with 1 Axes>"
            ],
            "image/png": "[encoded data removed]"
          },
          "metadata": {}
        }
      ]
    },
    {
      "cell_type": "code",
      "source": [
        "y_train_pred=lnr.predict(x_train_sm)\n",
        "resid=(y_train-y_train_pred)"
      ],
      "metadata": {
        "id": "4eji6ZDt54sL"
      },
      "execution_count": 62,
      "outputs": []
    },
    {
      "cell_type": "code",
      "source": [
        "fig=plt.figure()\n",
        "sns.displot(resid,bins=15)\n",
        "fig.suptitle('Error Terms',fontsize=15)\n",
        "plt.xlabel('y_train-y_train_pred',fontsize=15)\n",
        "plt.show()"
      ],
      "metadata": {
        "colab": {
          "base_uri": "https://localhost:8080/",
          "height": 551
        },
        "id": "O1Zd7AMG58YE",
        "outputId": "e87885cc-beb2-4752-b0d9-1804c216389d"
      },
      "execution_count": 63,
      "outputs": [
        {
          "output_type": "display_data",
          "data": {
            "text/plain": [
              "<Figure size 640x480 with 0 Axes>"
            ]
          },
          "metadata": {}
        },
        {
          "output_type": "display_data",
          "data": {
            "text/plain": [
              "<Figure size 500x500 with 1 Axes>"
            ],
            "image/png": "[encoded data removed]"
          },
          "metadata": {}
        }
      ]
    },
    {
      "cell_type": "code",
      "source": [
        "x_test_sm=sm.add_constant(x_test)\n",
        "y_pred=lnr.predict(x_test_sm)"
      ],
      "metadata": {
        "id": "amKtFgHp6NQh"
      },
      "execution_count": 64,
      "outputs": []
    },
    {
      "cell_type": "code",
      "source": [
        "y_pred"
      ],
      "metadata": {
        "colab": {
          "base_uri": "https://localhost:8080/"
        },
        "id": "kfYfCqfK6U_3",
        "outputId": "5655fee8-ffce-44f4-cede-588ce1c34669"
      },
      "execution_count": 65,
      "outputs": [
        {
          "output_type": "execute_result",
          "data": {
            "text/plain": [
              "126    15.304277\n",
              "104    11.884505\n",
              "99     14.949467\n",
              "92     15.938407\n",
              "111    13.235806\n",
              "167    12.948937\n",
              "116    13.416986\n",
              "96     11.929800\n",
              "52     14.473869\n",
              "69     13.537772\n",
              "164    11.892054\n",
              "124    17.085881\n",
              "182    13.726502\n",
              "154    12.201570\n",
              "125    13.439633\n",
              "196    12.095882\n",
              "194    11.937349\n",
              "177    14.141706\n",
              "163    12.043037\n",
              "31     14.398377\n",
              "11     11.786366\n",
              "73     13.847288\n",
              "15     15.477908\n",
              "41     14.405927\n",
              "97     13.145216\n",
              "128    11.725972\n",
              "133    14.889073\n",
              "82     13.937878\n",
              "139    11.612735\n",
              "123    12.420496\n",
              "83     14.171902\n",
              "65     11.552342\n",
              "151    15.160843\n",
              "162    13.416986\n",
              "170    12.873446\n",
              "77     12.556381\n",
              "32     13.749149\n",
              "173    12.450692\n",
              "174    12.473340\n",
              "85     16.444202\n",
              "168    15.832719\n",
              "112    11.665579\n",
              "171    15.062704\n",
              "181    13.552871\n",
              "7      12.360102\n",
              "46     14.179452\n",
              "75     18.233354\n",
              "28     13.213158\n",
              "29     14.564459\n",
              "195    12.526184\n",
              "40     13.869936\n",
              "153    14.330435\n",
              "115    15.462810\n",
              "64     13.666108\n",
              "59     12.186472\n",
              "1      14.889073\n",
              "192    13.869936\n",
              "136    12.186472\n",
              "152    12.556381\n",
              "161    15.206138\n",
              "dtype: float64"
            ]
          },
          "metadata": {},
          "execution_count": 65
        }
      ]
    },
    {
      "cell_type": "code",
      "source": [
        "np.sqrt(mean_squared_error(y_test,y_pred))"
      ],
      "metadata": {
        "colab": {
          "base_uri": "https://localhost:8080/"
        },
        "id": "3gR1EzBo6XQs",
        "outputId": "400ded3d-8912-4f3d-f77c-676f5a8b8c26"
      },
      "execution_count": 66,
      "outputs": [
        {
          "output_type": "execute_result",
          "data": {
            "text/plain": [
              "4.773167681558676"
            ]
          },
          "metadata": {},
          "execution_count": 66
        }
      ]
    },
    {
      "cell_type": "code",
      "source": [
        "r_squared=r2_score(y_test,y_pred)"
      ],
      "metadata": {
        "id": "LZOnUl5h6b0g"
      },
      "execution_count": 67,
      "outputs": []
    },
    {
      "cell_type": "code",
      "source": [
        "r_squared"
      ],
      "metadata": {
        "colab": {
          "base_uri": "https://localhost:8080/"
        },
        "id": "SYjw6c_C6ep7",
        "outputId": "59928095-1d80-4b81-e8c4-b48acb548590"
      },
      "execution_count": 68,
      "outputs": [
        {
          "output_type": "execute_result",
          "data": {
            "text/plain": [
              "-0.15889897366292227"
            ]
          },
          "metadata": {},
          "execution_count": 68
        }
      ]
    },
    {
      "cell_type": "code",
      "source": [
        "plt.scatter(x_test,y_test)\n",
        "plt.plot(x_test,11.484399 + 0.075492*x_test,'r')\n",
        "plt.show()"
      ],
      "metadata": {
        "colab": {
          "base_uri": "https://localhost:8080/",
          "height": 430
        },
        "id": "Sp_5QBGq6lSU",
        "outputId": "0575e37a-29c1-451e-db91-9b8227431ead"
      },
      "execution_count": 69,
      "outputs": [
        {
          "output_type": "display_data",
          "data": {
            "text/plain": [
              "<Figure size 640x480 with 1 Axes>"
            ],
            "image/png": "[encoded data removed]"
          },
          "metadata": {}
        }
      ]
    },
    {
      "cell_type": "markdown",
      "source": [
        "#BUILDING MODEL FOR RADIO"
      ],
      "metadata": {
        "id": "mNnnK0fg9hHt"
      }
    },
    {
      "cell_type": "code",
      "source": [
        "x=df['Radio']\n",
        "y=df['Sales']"
      ],
      "metadata": {
        "id": "-_siNHoX6naY"
      },
      "execution_count": 70,
      "outputs": []
    },
    {
      "cell_type": "code",
      "source": [
        "x_train"
      ],
      "metadata": {
        "colab": {
          "base_uri": "https://localhost:8080/"
        },
        "id": "3FINigmu6qoM",
        "outputId": "0ef85f05-f344-40b7-b1ff-1c9c1658ce7b"
      },
      "execution_count": 71,
      "outputs": [
        {
          "output_type": "execute_result",
          "data": {
            "text/plain": [
              "74     13.1\n",
              "3      58.5\n",
              "185    19.6\n",
              "26     12.6\n",
              "90      9.3\n",
              "       ... \n",
              "87     63.2\n",
              "103    17.9\n",
              "67     10.2\n",
              "24     18.3\n",
              "8       1.0\n",
              "Name: Newspaper, Length: 140, dtype: float64"
            ]
          },
          "metadata": {},
          "execution_count": 71
        }
      ]
    },
    {
      "cell_type": "code",
      "source": [
        "y_train.head()"
      ],
      "metadata": {
        "colab": {
          "base_uri": "https://localhost:8080/"
        },
        "id": "45bjkSV76s3V",
        "outputId": "526c9258-7bb0-4d89-f1e4-2efa394d7ba3"
      },
      "execution_count": 72,
      "outputs": [
        {
          "output_type": "execute_result",
          "data": {
            "text/plain": [
              "74     17.0\n",
              "3      18.5\n",
              "185    22.6\n",
              "26     15.0\n",
              "90     11.2\n",
              "Name: Sales, dtype: float64"
            ]
          },
          "metadata": {},
          "execution_count": 72
        }
      ]
    },
    {
      "cell_type": "code",
      "source": [
        "from sklearn.model_selection import train_test_split\n",
        "x_train,x_test,y_train,y_test=train_test_split(x,y,train_size=0.7,test_size=0.3,random_state=100)"
      ],
      "metadata": {
        "id": "DoHLFQ7f6yDh"
      },
      "execution_count": 73,
      "outputs": []
    },
    {
      "cell_type": "code",
      "source": [
        "x_train_sm=sm.add_constant(x_train)"
      ],
      "metadata": {
        "id": "zuyou34662LV"
      },
      "execution_count": 74,
      "outputs": []
    },
    {
      "cell_type": "code",
      "source": [
        "lnr=sm.OLS(y_train,x_train_sm).fit()"
      ],
      "metadata": {
        "id": "ru6b-91N64Ll"
      },
      "execution_count": 75,
      "outputs": []
    },
    {
      "cell_type": "code",
      "source": [
        "lnr.params"
      ],
      "metadata": {
        "colab": {
          "base_uri": "https://localhost:8080/"
        },
        "id": "1kdAJbiQ67mQ",
        "outputId": "08d83502-cc23-45ea-9143-4246b45e82d9"
      },
      "execution_count": 76,
      "outputs": [
        {
          "output_type": "execute_result",
          "data": {
            "text/plain": [
              "const    9.247973\n",
              "Radio    0.201073\n",
              "dtype: float64"
            ]
          },
          "metadata": {},
          "execution_count": 76
        }
      ]
    },
    {
      "cell_type": "code",
      "source": [
        "print(lnr.summary())"
      ],
      "metadata": {
        "colab": {
          "base_uri": "https://localhost:8080/"
        },
        "id": "r56Y38VT68PJ",
        "outputId": "51268098-8524-4453-b34c-1a5b103c240b"
      },
      "execution_count": 77,
      "outputs": [
        {
          "output_type": "stream",
          "name": "stdout",
          "text": [
            "                            OLS Regression Results                            \n",
            "==============================================================================\n",
            "Dep. Variable:                  Sales   R-squared:                       0.305\n",
            "Model:                            OLS   Adj. R-squared:                  0.300\n",
            "Method:                 Least Squares   F-statistic:                     60.51\n",
            "Date:                Thu, 27 Apr 2023   Prob (F-statistic):           1.54e-12\n",
            "Time:                        18:13:52   Log-Likelihood:                -411.70\n",
            "No. Observations:                 140   AIC:                             827.4\n",
            "Df Residuals:                     138   BIC:                             833.3\n",
            "Df Model:                           1                                         \n",
            "Covariance Type:            nonrobust                                         \n",
            "==============================================================================\n",
            "                 coef    std err          t      P>|t|      [0.025      0.975]\n",
            "------------------------------------------------------------------------------\n",
            "const          9.2480      0.709     13.036      0.000       7.845      10.651\n",
            "Radio          0.2011      0.026      7.779      0.000       0.150       0.252\n",
            "==============================================================================\n",
            "Omnibus:                        9.551   Durbin-Watson:                   1.882\n",
            "Prob(Omnibus):                  0.008   Jarque-Bera (JB):                9.753\n",
            "Skew:                          -0.640   Prob(JB):                      0.00762\n",
            "Kurtosis:                       3.184   Cond. No.                         50.0\n",
            "==============================================================================\n",
            "\n",
            "Notes:\n",
            "[1] Standard Errors assume that the covariance matrix of the errors is correctly specified.\n"
          ]
        }
      ]
    },
    {
      "cell_type": "markdown",
      "source": [
        "#VISUALIZING THE MODEL"
      ],
      "metadata": {
        "id": "59ipNcJK9x5x"
      }
    },
    {
      "cell_type": "code",
      "source": [
        "plt.scatter(x_train,y_train)\n",
        "plt.plot(x_train, 9.247973+0.201073*x_train,'r')\n",
        "plt.show()"
      ],
      "metadata": {
        "colab": {
          "base_uri": "https://localhost:8080/",
          "height": 430
        },
        "id": "d6V4QFA36-Em",
        "outputId": "edef3f57-253e-403c-c130-ec7bedaa3e5f"
      },
      "execution_count": 78,
      "outputs": [
        {
          "output_type": "display_data",
          "data": {
            "text/plain": [
              "<Figure size 640x480 with 1 Axes>"
            ],
            "image/png": "[encoded data removed]"
          },
          "metadata": {}
        }
      ]
    },
    {
      "cell_type": "code",
      "source": [
        "y_train_pred=lnr.predict(x_train_sm)\n",
        "resid=(y_train-y_train_pred)"
      ],
      "metadata": {
        "id": "YPqhUP2o7FlW"
      },
      "execution_count": 79,
      "outputs": []
    },
    {
      "cell_type": "code",
      "source": [
        "fig=plt.figure()\n",
        "sns.displot(resid,bins=15)\n",
        "fig.suptitle('Error Terms',fontsize=15)\n",
        "plt.xlabel('y_train-y_train_pred',fontsize=15)\n",
        "plt.show()"
      ],
      "metadata": {
        "colab": {
          "base_uri": "https://localhost:8080/",
          "height": 551
        },
        "id": "-snA-uKH7GRr",
        "outputId": "1be85eae-05e1-48b1-9253-13d627379ac5"
      },
      "execution_count": 80,
      "outputs": [
        {
          "output_type": "display_data",
          "data": {
            "text/plain": [
              "<Figure size 640x480 with 0 Axes>"
            ]
          },
          "metadata": {}
        },
        {
          "output_type": "display_data",
          "data": {
            "text/plain": [
              "<Figure size 500x500 with 1 Axes>"
            ],
            "image/png": "[encoded data removed]"
          },
          "metadata": {}
        }
      ]
    },
    {
      "cell_type": "code",
      "source": [
        "x_test_sm=sm.add_constant(x_test)\n",
        "y_pred=lnr.predict(x_test_sm)"
      ],
      "metadata": {
        "id": "jT7dUahj7IIv"
      },
      "execution_count": 81,
      "outputs": []
    },
    {
      "cell_type": "code",
      "source": [
        "y_pred"
      ],
      "metadata": {
        "colab": {
          "base_uri": "https://localhost:8080/"
        },
        "id": "uA6UT2zN7MJg",
        "outputId": "63fe0258-fcbd-4393-dcaa-3c54de912f47"
      },
      "execution_count": 82,
      "outputs": [
        {
          "output_type": "execute_result",
          "data": {
            "text/plain": [
              "126    17.069710\n",
              "104    16.144774\n",
              "99     17.632714\n",
              "92     15.983916\n",
              "111    16.888744\n",
              "167    10.293552\n",
              "116    12.123316\n",
              "96      9.951728\n",
              "52     17.632714\n",
              "69     18.075074\n",
              "164    12.203745\n",
              "124    15.742629\n",
              "182    10.394089\n",
              "154    13.490612\n",
              "125    11.620634\n",
              "196    10.233230\n",
              "194    16.406169\n",
              "177    10.816342\n",
              "163    16.647457\n",
              "31     12.746642\n",
              "11     14.073723\n",
              "73     10.394089\n",
              "15     18.839152\n",
              "41     15.963809\n",
              "97     13.470505\n",
              "128    19.100546\n",
              "133    15.983916\n",
              "82     13.329753\n",
              "139    18.075074\n",
              "123    16.205096\n",
              "83     18.195718\n",
              "65     11.117951\n",
              "151    10.936986\n",
              "162    12.887393\n",
              "170    11.580419\n",
              "77     14.978551\n",
              "32      9.549583\n",
              "173    10.675591\n",
              "174     9.931621\n",
              "85     12.947715\n",
              "168    13.993294\n",
              "112    12.344496\n",
              "171    13.450397\n",
              "181    10.333767\n",
              "7      13.189002\n",
              "46     11.238595\n",
              "75     18.034860\n",
              "28     14.697049\n",
              "29     12.465140\n",
              "195     9.991943\n",
              "40     13.731899\n",
              "153    17.230568\n",
              "115    16.285525\n",
              "64     17.853894\n",
              "59     15.179624\n",
              "1      17.150139\n",
              "192    10.072372\n",
              "136    17.089817\n",
              "152    13.932972\n",
              "161    16.446384\n",
              "dtype: float64"
            ]
          },
          "metadata": {},
          "execution_count": 82
        }
      ]
    },
    {
      "cell_type": "code",
      "source": [
        "np.sqrt(mean_squared_error(y_test,y_pred))"
      ],
      "metadata": {
        "colab": {
          "base_uri": "https://localhost:8080/"
        },
        "id": "gFrd8evQ7PXl",
        "outputId": "74a616b8-a31f-4c95-f0b6-0823208ba159"
      },
      "execution_count": 83,
      "outputs": [
        {
          "output_type": "execute_result",
          "data": {
            "text/plain": [
              "3.3747017041729372"
            ]
          },
          "metadata": {},
          "execution_count": 83
        }
      ]
    },
    {
      "cell_type": "code",
      "source": [
        "r_squared=r2_score(y_test,y_pred)"
      ],
      "metadata": {
        "id": "AYqwPIsP7R9P"
      },
      "execution_count": 84,
      "outputs": []
    },
    {
      "cell_type": "code",
      "source": [
        "r_squared"
      ],
      "metadata": {
        "colab": {
          "base_uri": "https://localhost:8080/"
        },
        "id": "J-vKkkmJ7VR-",
        "outputId": "97b434a9-8d17-40f7-935b-b4d9bd0da604"
      },
      "execution_count": 85,
      "outputs": [
        {
          "output_type": "execute_result",
          "data": {
            "text/plain": [
              "0.4207007355904727"
            ]
          },
          "metadata": {},
          "execution_count": 85
        }
      ]
    },
    {
      "cell_type": "code",
      "source": [
        "plt.scatter(x_test,y_test)\n",
        "plt.plot(x_test,11.484399 + 0.075492*x_test,'r')\n",
        "plt.show()"
      ],
      "metadata": {
        "colab": {
          "base_uri": "https://localhost:8080/",
          "height": 430
        },
        "id": "YcddTv7a7YsI",
        "outputId": "fe1ed41e-1fc0-4783-f15a-e6ff04b16527"
      },
      "execution_count": 86,
      "outputs": [
        {
          "output_type": "display_data",
          "data": {
            "text/plain": [
              "<Figure size 640x480 with 1 Axes>"
            ],
            "image/png": "[encoded data removed]"
          },
          "metadata": {}
        }
      ]
    },
    {
      "cell_type": "markdown",
      "source": [
        "#THANK YOU"
      ],
      "metadata": {
        "id": "-Yp3v-H1_YuB"
      }
    }
  ]
}